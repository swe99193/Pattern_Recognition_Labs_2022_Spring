{
 "cells": [
  {
   "cell_type": "markdown",
   "metadata": {},
   "source": [
    "## Data Processing"
   ]
  },
  {
   "cell_type": "code",
   "execution_count": 1,
   "metadata": {},
   "outputs": [],
   "source": [
    "import pandas as pd\n",
    "import numpy as np\n",
    "from numpy import log2\n",
    "file_url = \"http://storage.googleapis.com/download.tensorflow.org/data/heart.csv\"\n",
    "df = pd.read_csv(file_url)\n",
    "\n",
    "train_idx = np.load('train_idx.npy')\n",
    "test_idx = np.load('test_idx.npy')\n",
    "\n",
    "train_df = df.iloc[train_idx]\n",
    "test_df = df.iloc[test_idx]\n",
    "\n",
    "# drop some unwanted rows\n",
    "# train_df = train_df.drop([248, 250, 251]) # cp = 0"
   ]
  },
  {
   "cell_type": "code",
   "execution_count": 2,
   "metadata": {},
   "outputs": [
    {
     "data": {
      "text/html": [
       "<div>\n",
       "<style scoped>\n",
       "    .dataframe tbody tr th:only-of-type {\n",
       "        vertical-align: middle;\n",
       "    }\n",
       "\n",
       "    .dataframe tbody tr th {\n",
       "        vertical-align: top;\n",
       "    }\n",
       "\n",
       "    .dataframe thead th {\n",
       "        text-align: right;\n",
       "    }\n",
       "</style>\n",
       "<table border=\"1\" class=\"dataframe\">\n",
       "  <thead>\n",
       "    <tr style=\"text-align: right;\">\n",
       "      <th></th>\n",
       "      <th>age</th>\n",
       "      <th>sex</th>\n",
       "      <th>cp</th>\n",
       "      <th>trestbps</th>\n",
       "      <th>chol</th>\n",
       "      <th>fbs</th>\n",
       "      <th>restecg</th>\n",
       "      <th>thalach</th>\n",
       "      <th>exang</th>\n",
       "      <th>oldpeak</th>\n",
       "      <th>slope</th>\n",
       "      <th>ca</th>\n",
       "      <th>thal</th>\n",
       "      <th>target</th>\n",
       "    </tr>\n",
       "  </thead>\n",
       "  <tbody>\n",
       "    <tr>\n",
       "      <th>136</th>\n",
       "      <td>54</td>\n",
       "      <td>1</td>\n",
       "      <td>2</td>\n",
       "      <td>192</td>\n",
       "      <td>283</td>\n",
       "      <td>0</td>\n",
       "      <td>2</td>\n",
       "      <td>195</td>\n",
       "      <td>0</td>\n",
       "      <td>0.0</td>\n",
       "      <td>1</td>\n",
       "      <td>1</td>\n",
       "      <td>reversible</td>\n",
       "      <td>0</td>\n",
       "    </tr>\n",
       "    <tr>\n",
       "      <th>232</th>\n",
       "      <td>58</td>\n",
       "      <td>0</td>\n",
       "      <td>4</td>\n",
       "      <td>170</td>\n",
       "      <td>225</td>\n",
       "      <td>1</td>\n",
       "      <td>2</td>\n",
       "      <td>146</td>\n",
       "      <td>1</td>\n",
       "      <td>2.8</td>\n",
       "      <td>2</td>\n",
       "      <td>2</td>\n",
       "      <td>fixed</td>\n",
       "      <td>1</td>\n",
       "    </tr>\n",
       "    <tr>\n",
       "      <th>233</th>\n",
       "      <td>56</td>\n",
       "      <td>1</td>\n",
       "      <td>2</td>\n",
       "      <td>130</td>\n",
       "      <td>221</td>\n",
       "      <td>0</td>\n",
       "      <td>2</td>\n",
       "      <td>163</td>\n",
       "      <td>0</td>\n",
       "      <td>0.0</td>\n",
       "      <td>1</td>\n",
       "      <td>0</td>\n",
       "      <td>reversible</td>\n",
       "      <td>0</td>\n",
       "    </tr>\n",
       "    <tr>\n",
       "      <th>184</th>\n",
       "      <td>46</td>\n",
       "      <td>1</td>\n",
       "      <td>4</td>\n",
       "      <td>120</td>\n",
       "      <td>249</td>\n",
       "      <td>0</td>\n",
       "      <td>2</td>\n",
       "      <td>144</td>\n",
       "      <td>0</td>\n",
       "      <td>0.8</td>\n",
       "      <td>1</td>\n",
       "      <td>0</td>\n",
       "      <td>reversible</td>\n",
       "      <td>0</td>\n",
       "    </tr>\n",
       "    <tr>\n",
       "      <th>84</th>\n",
       "      <td>55</td>\n",
       "      <td>0</td>\n",
       "      <td>2</td>\n",
       "      <td>135</td>\n",
       "      <td>250</td>\n",
       "      <td>0</td>\n",
       "      <td>2</td>\n",
       "      <td>161</td>\n",
       "      <td>0</td>\n",
       "      <td>1.4</td>\n",
       "      <td>2</td>\n",
       "      <td>0</td>\n",
       "      <td>normal</td>\n",
       "      <td>0</td>\n",
       "    </tr>\n",
       "  </tbody>\n",
       "</table>\n",
       "</div>"
      ],
      "text/plain": [
       "     age  sex  cp  trestbps  chol  fbs  restecg  thalach  exang  oldpeak  \\\n",
       "136   54    1   2       192   283    0        2      195      0      0.0   \n",
       "232   58    0   4       170   225    1        2      146      1      2.8   \n",
       "233   56    1   2       130   221    0        2      163      0      0.0   \n",
       "184   46    1   4       120   249    0        2      144      0      0.8   \n",
       "84    55    0   2       135   250    0        2      161      0      1.4   \n",
       "\n",
       "     slope  ca        thal  target  \n",
       "136      1   1  reversible       0  \n",
       "232      2   2       fixed       1  \n",
       "233      1   0  reversible       0  \n",
       "184      1   0  reversible       0  \n",
       "84       2   0      normal       0  "
      ]
     },
     "execution_count": 2,
     "metadata": {},
     "output_type": "execute_result"
    }
   ],
   "source": [
    "train_df.head()"
   ]
  },
  {
   "cell_type": "code",
   "execution_count": 3,
   "metadata": {},
   "outputs": [
    {
     "name": "stdout",
     "output_type": "stream",
     "text": [
      "<class 'pandas.core.frame.DataFrame'>\n",
      "Int64Index: 201 entries, 136 to 15\n",
      "Data columns (total 14 columns):\n",
      " #   Column    Non-Null Count  Dtype  \n",
      "---  ------    --------------  -----  \n",
      " 0   age       201 non-null    int64  \n",
      " 1   sex       201 non-null    int64  \n",
      " 2   cp        201 non-null    int64  \n",
      " 3   trestbps  201 non-null    int64  \n",
      " 4   chol      201 non-null    int64  \n",
      " 5   fbs       201 non-null    int64  \n",
      " 6   restecg   201 non-null    int64  \n",
      " 7   thalach   201 non-null    int64  \n",
      " 8   exang     201 non-null    int64  \n",
      " 9   oldpeak   201 non-null    float64\n",
      " 10  slope     201 non-null    int64  \n",
      " 11  ca        201 non-null    int64  \n",
      " 12  thal      201 non-null    object \n",
      " 13  target    201 non-null    int64  \n",
      "dtypes: float64(1), int64(12), object(1)\n",
      "memory usage: 23.6+ KB\n"
     ]
    }
   ],
   "source": [
    "train_df.info()\n",
    "# test_df.info()"
   ]
  },
  {
   "cell_type": "code",
   "execution_count": 3,
   "metadata": {},
   "outputs": [
    {
     "name": "stdout",
     "output_type": "stream",
     "text": [
      "reversible     79\n",
      "normal        115\n",
      "fixed           7\n",
      "Name: thal, dtype: int64\n",
      "reversible    36\n",
      "normal        53\n",
      "fixed         11\n",
      "Name: thal, dtype: int64\n"
     ]
    }
   ],
   "source": [
    "col = 'thal'\n",
    "print(train_df[col].value_counts(sort=False))\n",
    "print(test_df[col].value_counts(sort=False))\n",
    "# categorical: sex, cp, fbs, restecg, exang, thal\n",
    "# continous: age, trestbps, chol, thalach, oldpeak, slope, ca\n",
    "# one-hot-encoding: cp, restecg, thal"
   ]
  },
  {
   "cell_type": "code",
   "execution_count": 9,
   "metadata": {},
   "outputs": [],
   "source": [
    "encoding_list = ['cp', 'restecg', 'thal']\n",
    "for feature in encoding_list:\n",
    "    train_df = pd.get_dummies(train_df, columns=[feature], prefix = [feature])\n",
    "    test_df = pd.get_dummies(test_df, columns=[feature], prefix = [feature])"
   ]
  },
  {
   "cell_type": "code",
   "execution_count": 10,
   "metadata": {},
   "outputs": [
    {
     "data": {
      "text/html": [
       "<div>\n",
       "<style scoped>\n",
       "    .dataframe tbody tr th:only-of-type {\n",
       "        vertical-align: middle;\n",
       "    }\n",
       "\n",
       "    .dataframe tbody tr th {\n",
       "        vertical-align: top;\n",
       "    }\n",
       "\n",
       "    .dataframe thead th {\n",
       "        text-align: right;\n",
       "    }\n",
       "</style>\n",
       "<table border=\"1\" class=\"dataframe\">\n",
       "  <thead>\n",
       "    <tr style=\"text-align: right;\">\n",
       "      <th></th>\n",
       "      <th>age</th>\n",
       "      <th>sex</th>\n",
       "      <th>trestbps</th>\n",
       "      <th>chol</th>\n",
       "      <th>fbs</th>\n",
       "      <th>thalach</th>\n",
       "      <th>exang</th>\n",
       "      <th>oldpeak</th>\n",
       "      <th>slope</th>\n",
       "      <th>ca</th>\n",
       "      <th>...</th>\n",
       "      <th>cp_1</th>\n",
       "      <th>cp_2</th>\n",
       "      <th>cp_3</th>\n",
       "      <th>cp_4</th>\n",
       "      <th>restecg_0</th>\n",
       "      <th>restecg_1</th>\n",
       "      <th>restecg_2</th>\n",
       "      <th>thal_fixed</th>\n",
       "      <th>thal_normal</th>\n",
       "      <th>thal_reversible</th>\n",
       "    </tr>\n",
       "  </thead>\n",
       "  <tbody>\n",
       "    <tr>\n",
       "      <th>136</th>\n",
       "      <td>54</td>\n",
       "      <td>1</td>\n",
       "      <td>192</td>\n",
       "      <td>283</td>\n",
       "      <td>0</td>\n",
       "      <td>195</td>\n",
       "      <td>0</td>\n",
       "      <td>0.0</td>\n",
       "      <td>1</td>\n",
       "      <td>1</td>\n",
       "      <td>...</td>\n",
       "      <td>0</td>\n",
       "      <td>1</td>\n",
       "      <td>0</td>\n",
       "      <td>0</td>\n",
       "      <td>0</td>\n",
       "      <td>0</td>\n",
       "      <td>1</td>\n",
       "      <td>0</td>\n",
       "      <td>0</td>\n",
       "      <td>1</td>\n",
       "    </tr>\n",
       "    <tr>\n",
       "      <th>232</th>\n",
       "      <td>58</td>\n",
       "      <td>0</td>\n",
       "      <td>170</td>\n",
       "      <td>225</td>\n",
       "      <td>1</td>\n",
       "      <td>146</td>\n",
       "      <td>1</td>\n",
       "      <td>2.8</td>\n",
       "      <td>2</td>\n",
       "      <td>2</td>\n",
       "      <td>...</td>\n",
       "      <td>0</td>\n",
       "      <td>0</td>\n",
       "      <td>0</td>\n",
       "      <td>1</td>\n",
       "      <td>0</td>\n",
       "      <td>0</td>\n",
       "      <td>1</td>\n",
       "      <td>1</td>\n",
       "      <td>0</td>\n",
       "      <td>0</td>\n",
       "    </tr>\n",
       "    <tr>\n",
       "      <th>233</th>\n",
       "      <td>56</td>\n",
       "      <td>1</td>\n",
       "      <td>130</td>\n",
       "      <td>221</td>\n",
       "      <td>0</td>\n",
       "      <td>163</td>\n",
       "      <td>0</td>\n",
       "      <td>0.0</td>\n",
       "      <td>1</td>\n",
       "      <td>0</td>\n",
       "      <td>...</td>\n",
       "      <td>0</td>\n",
       "      <td>1</td>\n",
       "      <td>0</td>\n",
       "      <td>0</td>\n",
       "      <td>0</td>\n",
       "      <td>0</td>\n",
       "      <td>1</td>\n",
       "      <td>0</td>\n",
       "      <td>0</td>\n",
       "      <td>1</td>\n",
       "    </tr>\n",
       "    <tr>\n",
       "      <th>184</th>\n",
       "      <td>46</td>\n",
       "      <td>1</td>\n",
       "      <td>120</td>\n",
       "      <td>249</td>\n",
       "      <td>0</td>\n",
       "      <td>144</td>\n",
       "      <td>0</td>\n",
       "      <td>0.8</td>\n",
       "      <td>1</td>\n",
       "      <td>0</td>\n",
       "      <td>...</td>\n",
       "      <td>0</td>\n",
       "      <td>0</td>\n",
       "      <td>0</td>\n",
       "      <td>1</td>\n",
       "      <td>0</td>\n",
       "      <td>0</td>\n",
       "      <td>1</td>\n",
       "      <td>0</td>\n",
       "      <td>0</td>\n",
       "      <td>1</td>\n",
       "    </tr>\n",
       "    <tr>\n",
       "      <th>84</th>\n",
       "      <td>55</td>\n",
       "      <td>0</td>\n",
       "      <td>135</td>\n",
       "      <td>250</td>\n",
       "      <td>0</td>\n",
       "      <td>161</td>\n",
       "      <td>0</td>\n",
       "      <td>1.4</td>\n",
       "      <td>2</td>\n",
       "      <td>0</td>\n",
       "      <td>...</td>\n",
       "      <td>0</td>\n",
       "      <td>1</td>\n",
       "      <td>0</td>\n",
       "      <td>0</td>\n",
       "      <td>0</td>\n",
       "      <td>0</td>\n",
       "      <td>1</td>\n",
       "      <td>0</td>\n",
       "      <td>1</td>\n",
       "      <td>0</td>\n",
       "    </tr>\n",
       "  </tbody>\n",
       "</table>\n",
       "<p>5 rows × 22 columns</p>\n",
       "</div>"
      ],
      "text/plain": [
       "     age  sex  trestbps  chol  fbs  thalach  exang  oldpeak  slope  ca  ...  \\\n",
       "136   54    1       192   283    0      195      0      0.0      1   1  ...   \n",
       "232   58    0       170   225    1      146      1      2.8      2   2  ...   \n",
       "233   56    1       130   221    0      163      0      0.0      1   0  ...   \n",
       "184   46    1       120   249    0      144      0      0.8      1   0  ...   \n",
       "84    55    0       135   250    0      161      0      1.4      2   0  ...   \n",
       "\n",
       "     cp_1  cp_2  cp_3  cp_4  restecg_0  restecg_1  restecg_2  thal_fixed  \\\n",
       "136     0     1     0     0          0          0          1           0   \n",
       "232     0     0     0     1          0          0          1           1   \n",
       "233     0     1     0     0          0          0          1           0   \n",
       "184     0     0     0     1          0          0          1           0   \n",
       "84      0     1     0     0          0          0          1           0   \n",
       "\n",
       "     thal_normal  thal_reversible  \n",
       "136            0                1  \n",
       "232            0                0  \n",
       "233            0                1  \n",
       "184            0                1  \n",
       "84             1                0  \n",
       "\n",
       "[5 rows x 22 columns]"
      ]
     },
     "execution_count": 10,
     "metadata": {},
     "output_type": "execute_result"
    }
   ],
   "source": [
    "train_df.head()"
   ]
  },
  {
   "cell_type": "code",
   "execution_count": 197,
   "metadata": {},
   "outputs": [],
   "source": [
    "features = list(train_df.columns)\n",
    "features.remove('target')\n",
    "X_train_df, y_train_df = train_df[features], train_df['target']\n",
    "X_test_df, y_test_df = test_df[features], test_df['target']"
   ]
  },
  {
   "cell_type": "code",
   "execution_count": 198,
   "metadata": {},
   "outputs": [],
   "source": [
    "# X_train_df.dtypes.values\n",
    "# y_train_df.dtypes"
   ]
  },
  {
   "cell_type": "code",
   "execution_count": 199,
   "metadata": {},
   "outputs": [],
   "source": [
    "X_train_dt = np.dtype({'names': features, 'formats': X_train_df.dtypes.values})\n",
    "X_test_dt = np.dtype({'names': features, 'formats': X_test_df.dtypes.values})"
   ]
  },
  {
   "cell_type": "code",
   "execution_count": 194,
   "metadata": {},
   "outputs": [],
   "source": [
    "from sklearn.model_selection import train_test_split\n",
    "X_train_tmp, X_test_tmp = train_test_split(X_train_df, test_size=0.3)"
   ]
  },
  {
   "cell_type": "code",
   "execution_count": 196,
   "metadata": {},
   "outputs": [
    {
     "data": {
      "text/plain": [
       "pandas.core.frame.DataFrame"
      ]
     },
     "execution_count": 196,
     "metadata": {},
     "output_type": "execute_result"
    }
   ],
   "source": []
  },
  {
   "cell_type": "markdown",
   "metadata": {},
   "source": [
    "### Stuctured np array\n",
    "- https://jakevdp.github.io/PythonDataScienceHandbook/02.09-structured-data-numpy.html"
   ]
  },
  {
   "cell_type": "code",
   "execution_count": 200,
   "metadata": {},
   "outputs": [
    {
     "name": "stdout",
     "output_type": "stream",
     "text": [
      "[54 58 56 46 55 44 61 59 62 54 64 64 62 66 60 55 44 54 63 46 58 64 41 62\n",
      " 56 61 62 61 40 46 47 63 65 44 57 69 59 54 43 50 53 44 42 42 42 57 56 58\n",
      " 41 58 48 59 59 34 62 48 66 62 38 74 62 53 63 67 41 52 61 40 45 37 66 43\n",
      " 61 54 77 67 43 67 45 54 56 46 59 53 41 48 58 58 66 54 48 52 59 65 57 41\n",
      " 60 34 56 52 71 50 60 44 51 52 58 42 58 57 35 54 64 65 65 54 41 65 64 57\n",
      " 60 47 47 62 57 60 54 58 65 51 49 56 44 51 46 55 54 46 51 51 60 41 54 49\n",
      " 37 54 46 39 49 63 55 62 58 56 67 44 60 49 59 29 54 62 35 59 51 60 42 45\n",
      " 65 41 43 55 57 67 71 50 67 66 51 57 55 51 45 55 54 52 68 39 48 52 35 52\n",
      " 60 50 51 64 44 57]\n",
      "(54, 1, 192, 283, 0, 195, 0, 0., 1, 1, 0, 1, 0, 0, 0, 0, 1, 0, 0, 1)\n",
      "[(29, 1, 130, 204, 0, 202, 0, 0., 1, 0, 0, 1, 0, 0, 0, 0, 1, 0, 1, 0)]\n"
     ]
    }
   ],
   "source": [
    "tmp=np.array([tuple(v) for v in X_train_df.values.tolist()], dtype=X_train_dt)\n",
    "print(tmp['age'])\n",
    "print(tmp[0])\n",
    "print(tmp[tmp['age']<30])"
   ]
  },
  {
   "cell_type": "code",
   "execution_count": 215,
   "metadata": {},
   "outputs": [],
   "source": [
    "# X_train, y_train = X_train.to_numpy(), y_train.to_numpy()\n",
    "# X_test, y_test = X_test.to_numpy(), y_test.to_numpy()\n",
    "X_train, y_train = X_train_df.to_numpy(), y_train_df.to_numpy()\n",
    "X_test, y_test = X_test_df.to_numpy(), y_test_df.to_numpy()"
   ]
  },
  {
   "cell_type": "code",
   "execution_count": 216,
   "metadata": {},
   "outputs": [
    {
     "data": {
      "text/plain": [
       "array([[ 54.,   1., 192., ...,   0.,   0.,   1.],\n",
       "       [ 58.,   0., 170., ...,   1.,   0.,   0.],\n",
       "       [ 56.,   1., 130., ...,   0.,   0.,   1.],\n",
       "       ...,\n",
       "       [ 64.,   1., 170., ...,   0.,   0.,   1.],\n",
       "       [ 44.,   1., 130., ...,   0.,   1.,   0.],\n",
       "       [ 57.,   1., 150., ...,   0.,   1.,   0.]])"
      ]
     },
     "execution_count": 216,
     "metadata": {},
     "output_type": "execute_result"
    }
   ],
   "source": [
    "# data = np.append(X_train, np.resize(y_train, (len(y_train),1)), axis=1)\n",
    "# print(data)\n",
    "X_train"
   ]
  },
  {
   "cell_type": "code",
   "execution_count": 218,
   "metadata": {},
   "outputs": [
    {
     "name": "stdout",
     "output_type": "stream",
     "text": [
      "[[ 67.   1. 100. ...   0.   1.   0.]\n",
      " [ 58.   0. 100. ...   0.   1.   0.]\n",
      " [ 46.   1. 101. ...   0.   0.   1.]\n",
      " ...\n",
      " [ 55.   0. 180. ...   0.   1.   0.]\n",
      " [ 54.   1. 192. ...   0.   0.   1.]\n",
      " [ 56.   0. 200. ...   0.   0.   1.]]\n",
      "[1 0 0 0 0 0 0 0 0 0 0 0 0 0 0 0 0 0 0 0 0 1 0 0 0 1 1 0 1 0 0 1 0 1 0 0 0\n",
      " 1 0 0 1 0 0 0 0 1 0 1 0 1 1 0 0 0 0 1 1 0 1 0 0 0 1 0 0 0 1 0 1 0 1 0 0 0\n",
      " 1 0 1 0 0 0 1 1 0 0 0 0 0 0 1 0 1 0 0 1 0 0 0 0 0 1 0 1 0 1 1 1 1 0 0 0 0\n",
      " 0 0 1 0 0 0 0 0 1 1 0 0 1 0 1 0 0 0 0 1 0 0 1 1 0 0 1 1 0 1 0 1 0 0 0 0 1\n",
      " 0 0 0 0 0 0 1 0 0 1 0 1 0 0 1 0 1 0 1 0 0 1 0 0 0 0 0 0 0 0 0 0 0 0 0 1 1\n",
      " 1 0 1 0 1 1 0 0 1 1 1 0 1]\n"
     ]
    }
   ],
   "source": [
    "idx = np.argsort(X_train[:, 2])\n",
    "print(X_train[idx])\n",
    "print(y_train[idx])"
   ]
  },
  {
   "cell_type": "code",
   "execution_count": 210,
   "metadata": {},
   "outputs": [
    {
     "data": {
      "text/plain": [
       "array([191,   7])"
      ]
     },
     "execution_count": 210,
     "metadata": {},
     "output_type": "execute_result"
    }
   ],
   "source": [
    "np.bincount(X_train[:, -3].astype('uint8'))"
   ]
  },
  {
   "cell_type": "code",
   "execution_count": null,
   "metadata": {},
   "outputs": [],
   "source": [
    "np.sort(a, order='name')"
   ]
  },
  {
   "cell_type": "code",
   "execution_count": 8,
   "metadata": {},
   "outputs": [
    {
     "data": {
      "text/plain": [
       "1    7\n",
       "0    4\n",
       "Name: target, dtype: int64"
      ]
     },
     "execution_count": 8,
     "metadata": {},
     "output_type": "execute_result"
    }
   ],
   "source": [
    "tmp = test_df[(test_df['thal'] == 'fixed')]\n",
    "# tmp\n",
    "tmp['target'].value_counts()"
   ]
  },
  {
   "cell_type": "code",
   "execution_count": 359,
   "metadata": {},
   "outputs": [
    {
     "name": "stdout",
     "output_type": "stream",
     "text": [
      "3.6666666666666665\n",
      "2.5714285714285716\n",
      "7.846153846153846\n"
     ]
    }
   ],
   "source": [
    "print(11/3)\n",
    "print(18/7)\n",
    "print(102/13)"
   ]
  },
  {
   "cell_type": "code",
   "execution_count": null,
   "metadata": {},
   "outputs": [],
   "source": [
    "# test_df[(test_df['cp'] == 1)]"
   ]
  },
  {
   "cell_type": "code",
   "execution_count": 207,
   "metadata": {},
   "outputs": [
    {
     "data": {
      "text/plain": [
       "Index(['age', 'sex', 'trestbps', 'chol', 'fbs', 'thalach', 'exang', 'oldpeak',\n",
       "       'slope', 'ca', 'target', 'cp_1', 'cp_2', 'cp_3', 'cp_4', 'restecg_0',\n",
       "       'restecg_1', 'restecg_2', 'thal_fixed', 'thal_normal',\n",
       "       'thal_reversible'],\n",
       "      dtype='object')"
      ]
     },
     "execution_count": 207,
     "metadata": {},
     "output_type": "execute_result"
    }
   ],
   "source": [
    "train_df.columns"
   ]
  },
  {
   "cell_type": "code",
   "execution_count": 208,
   "metadata": {},
   "outputs": [
    {
     "data": {
      "text/plain": [
       "0     86\n",
       "1    112\n",
       "Name: thal_normal, dtype: int64"
      ]
     },
     "execution_count": 208,
     "metadata": {},
     "output_type": "execute_result"
    }
   ],
   "source": [
    "train_df['thal_normal'].value_counts(sort=False)"
   ]
  },
  {
   "cell_type": "code",
   "execution_count": 211,
   "metadata": {},
   "outputs": [
    {
     "data": {
      "text/plain": [
       "0    89\n",
       "1    11\n",
       "Name: thal_fixed, dtype: int64"
      ]
     },
     "execution_count": 211,
     "metadata": {},
     "output_type": "execute_result"
    }
   ],
   "source": [
    "test_df['thal_fixed'].value_counts(sort=False)"
   ]
  },
  {
   "cell_type": "code",
   "execution_count": null,
   "metadata": {},
   "outputs": [],
   "source": [
    "# check null values\n",
    "train_df.isnull().sum()"
   ]
  },
  {
   "cell_type": "code",
   "execution_count": 77,
   "metadata": {},
   "outputs": [
    {
     "data": {
      "text/plain": [
       "(198, 14)"
      ]
     },
     "execution_count": 77,
     "metadata": {},
     "output_type": "execute_result"
    }
   ],
   "source": [
    "train_df.values.shape"
   ]
  },
  {
   "cell_type": "code",
   "execution_count": 106,
   "metadata": {},
   "outputs": [
    {
     "name": "stdout",
     "output_type": "stream",
     "text": [
      "[[54 1 2 ... 1 1 'reversible']\n",
      " [58 0 4 ... 2 2 'fixed']\n",
      " [56 1 2 ... 1 0 'reversible']\n",
      " ...\n",
      " [64 1 1 ... 2 0 'reversible']\n",
      " [44 1 3 ... 1 0 'normal']\n",
      " [57 1 3 ... 1 0 'normal']]\n"
     ]
    }
   ],
   "source": [
    "print(X_train)\n",
    "# print(data[: ,0])"
   ]
  },
  {
   "cell_type": "markdown",
   "metadata": {},
   "source": [
    "### sort 2d array (numpy)\n",
    "https://opensourceoptions.com/blog/sort-numpy-arrays-by-columns-or-rows/"
   ]
  },
  {
   "cell_type": "code",
   "execution_count": 34,
   "metadata": {},
   "outputs": [
    {
     "name": "stdout",
     "output_type": "stream",
     "text": [
      "[[44 18 25 73]\n",
      " [17 84 64 47]\n",
      " [70 80 17  1]\n",
      " [31 27 62 28]\n",
      " [38 22 90 77]]\n"
     ]
    }
   ],
   "source": [
    "a = np.random.randint(100, size=(5, 4))\n",
    "print(a)"
   ]
  },
  {
   "cell_type": "code",
   "execution_count": 36,
   "metadata": {},
   "outputs": [
    {
     "name": "stdout",
     "output_type": "stream",
     "text": [
      "[[70 80 17  1]\n",
      " [31 27 62 28]\n",
      " [17 84 64 47]\n",
      " [44 18 25 73]\n",
      " [38 22 90 77]]\n"
     ]
    }
   ],
   "source": [
    "a = a[a[:, 3].argsort()]\n",
    "print(a)"
   ]
  },
  {
   "cell_type": "markdown",
   "metadata": {},
   "source": [
    "### append a column to np arr"
   ]
  },
  {
   "cell_type": "code",
   "execution_count": 41,
   "metadata": {},
   "outputs": [
    {
     "name": "stdout",
     "output_type": "stream",
     "text": [
      "[[46 94 88 66]\n",
      " [ 6 21 68 81]\n",
      " [22 25 34 31]\n",
      " [60 61 46 71]\n",
      " [67 38 87 31]]\n",
      "[89 70 86 54 54]\n"
     ]
    }
   ],
   "source": [
    "X = np.random.randint(100, size=(5, 4))\n",
    "Y = np.random.randint(100, size=(5,))\n",
    "print(X)\n",
    "print(Y)"
   ]
  },
  {
   "cell_type": "code",
   "execution_count": 42,
   "metadata": {},
   "outputs": [
    {
     "name": "stdout",
     "output_type": "stream",
     "text": [
      "[[89]\n",
      " [70]\n",
      " [86]\n",
      " [54]\n",
      " [54]]\n"
     ]
    }
   ],
   "source": [
    "Y.resize((len(Y),1))\n",
    "print(Y)"
   ]
  },
  {
   "cell_type": "code",
   "execution_count": 43,
   "metadata": {},
   "outputs": [
    {
     "name": "stdout",
     "output_type": "stream",
     "text": [
      "[[46 94 88 66 89]\n",
      " [ 6 21 68 81 70]\n",
      " [22 25 34 31 86]\n",
      " [60 61 46 71 54]\n",
      " [67 38 87 31 54]]\n"
     ]
    }
   ],
   "source": [
    "data = np.append(X, Y, axis=1)\n",
    "print(data)"
   ]
  },
  {
   "cell_type": "markdown",
   "metadata": {},
   "source": [
    "### numpy histogram"
   ]
  },
  {
   "cell_type": "code",
   "execution_count": 46,
   "metadata": {},
   "outputs": [
    {
     "data": {
      "text/plain": [
       "(array([0, 3]), array([0, 1, 2]))"
      ]
     },
     "execution_count": 46,
     "metadata": {},
     "output_type": "execute_result"
    }
   ],
   "source": [
    "np.histogram([1, 2, 1], bins=[0, 1, 2])"
   ]
  },
  {
   "cell_type": "code",
   "execution_count": 50,
   "metadata": {},
   "outputs": [
    {
     "data": {
      "text/plain": [
       "5"
      ]
     },
     "execution_count": 50,
     "metadata": {},
     "output_type": "execute_result"
    }
   ],
   "source": [
    "tmp = np.unique([1.4, 4.3, 4, 10, 0, 0.0])\n",
    "len(tmp)"
   ]
  },
  {
   "cell_type": "code",
   "execution_count": 235,
   "metadata": {},
   "outputs": [
    {
     "name": "stdout",
     "output_type": "stream",
     "text": [
      "[3 4]\n",
      "1\n"
     ]
    }
   ],
   "source": [
    "cls_list = np.bincount([0,0,0,1,1,1,1], minlength=2)\n",
    "print(cls_list)\n",
    "print(np.argmax(cls_list))"
   ]
  },
  {
   "cell_type": "markdown",
   "metadata": {},
   "source": [
    "### SELECT condition numpy"
   ]
  },
  {
   "cell_type": "code",
   "execution_count": 219,
   "metadata": {},
   "outputs": [
    {
     "name": "stdout",
     "output_type": "stream",
     "text": [
      "[[68 77 90 83]\n",
      " [52 67 66 18]\n",
      " [65  2 99 26]\n",
      " [32 48 40 97]\n",
      " [18 95 74 23]]\n"
     ]
    }
   ],
   "source": [
    "X = np.random.randint(100, size=(5, 4))\n",
    "print(X)"
   ]
  },
  {
   "cell_type": "code",
   "execution_count": 227,
   "metadata": {},
   "outputs": [
    {
     "name": "stdout",
     "output_type": "stream",
     "text": [
      "[False False  True False False]\n",
      "[ True  True False  True  True]\n",
      "[ True  True False  True  True]\n",
      "(1, 4)\n"
     ]
    }
   ],
   "source": [
    "mask = X[:, 1] < 10\n",
    "print(mask)\n",
    "print(np.logical_not(mask))\n",
    "print(mask==False)\n",
    "\n",
    "filter_X = X[mask, :]\n",
    "print(filter_X.shape)"
   ]
  },
  {
   "cell_type": "markdown",
   "metadata": {},
   "source": [
    "## Pandas code snippets"
   ]
  },
  {
   "cell_type": "code",
   "execution_count": null,
   "metadata": {},
   "outputs": [],
   "source": [
    "df.info()"
   ]
  },
  {
   "cell_type": "code",
   "execution_count": null,
   "metadata": {},
   "outputs": [],
   "source": [
    "features = df.columns\n",
    "print(features)\n",
    "print(len(features))\n",
    "print(df.index)"
   ]
  },
  {
   "cell_type": "code",
   "execution_count": null,
   "metadata": {},
   "outputs": [],
   "source": [
    "df.sort_values('thalach', inplace=True)\n",
    "print(df.index)"
   ]
  },
  {
   "cell_type": "code",
   "execution_count": null,
   "metadata": {},
   "outputs": [],
   "source": [
    "# print(df. iloc[:, 17])\n",
    "# df.loc[:, features]\n",
    "df['sex']"
   ]
  },
  {
   "cell_type": "code",
   "execution_count": null,
   "metadata": {},
   "outputs": [],
   "source": [
    "print(df.loc[df['age'] < 50, :])\n",
    "# print(len(df.loc[df['age'] >= 50, :]))\n",
    "# print(df.loc[df['sex'] == 0 , :])"
   ]
  },
  {
   "cell_type": "code",
   "execution_count": null,
   "metadata": {},
   "outputs": [],
   "source": [
    "for index, row in df.iterrows():\n",
    "    print(row['age'])\n",
    "    break\n"
   ]
  },
  {
   "cell_type": "code",
   "execution_count": null,
   "metadata": {},
   "outputs": [],
   "source": [
    "def gini(sequence):\n",
    "    if len(sequence) == 0:\n",
    "        return 0\n",
    "    \n",
    "    if np.unique(sequence).shape[0] == 1:  # pure\n",
    "        return 0\n",
    "\n",
    "    hist = np.bincount(sequence) / sequence.shape[0]\n",
    "    return 1 - np.sum(hist ** 2)\n",
    "\n",
    "print(gini(df['target'].values))\n",
    "print(gini(np.array([1,1,1,1,1,1,1,1,1,1,1,1,1,0,0,0], dtype='int64')))"
   ]
  },
  {
   "cell_type": "code",
   "execution_count": null,
   "metadata": {},
   "outputs": [],
   "source": [
    "feature_val = df['ca'].value_counts(sort=False).index.values\n",
    "print(feature_val)\n",
    "np.array_equal(feature_val, [0, 1])"
   ]
  },
  {
   "cell_type": "markdown",
   "metadata": {},
   "source": [
    "## Test code snippet"
   ]
  },
  {
   "cell_type": "code",
   "execution_count": null,
   "metadata": {},
   "outputs": [],
   "source": [
    "def func(df):\n",
    "    print(id(df))\n",
    "    df = df.sort_values('thalach')\n",
    "    print(id(df)) #copy\n",
    "    \n",
    "print(id(df))\n",
    "func(df)\n",
    "print(df['thalach'])"
   ]
  },
  {
   "cell_type": "code",
   "execution_count": null,
   "metadata": {},
   "outputs": [],
   "source": [
    "def func(arr):\n",
    "    arr[3] = 100 # change the original array\n",
    "    \n",
    "arr = np.array([1,4,3,2])\n",
    "func(arr)\n",
    "print(arr)"
   ]
  },
  {
   "cell_type": "code",
   "execution_count": null,
   "metadata": {},
   "outputs": [],
   "source": [
    "i = j = 1\n",
    "print(id(i), id(j))\n",
    "\n",
    "j = 10\n",
    "print(i, j)\n",
    "print(id(i), id(j))\n"
   ]
  },
  {
   "cell_type": "code",
   "execution_count": 244,
   "metadata": {},
   "outputs": [],
   "source": [
    "def sample_weight_gini(Y: np.ndarray, sample_weight: np.ndarray):\n",
    "    cls_list = np.unique(Y)\n",
    "\n",
    "    if len(Y) == 0:\n",
    "        return 0\n",
    "    if len(cls_list) == 1:  # pure\n",
    "        return 0\n",
    "\n",
    "    cls_count = np.zeros(len(cls_list))\n",
    "\n",
    "    for cls in cls_list:\n",
    "        cls_count[cls] = sample_weight[Y == cls].sum()\n",
    "\n",
    "    hist = cls_count / sample_weight.sum()\n",
    "    print(hist)\n",
    "    return 1 - np.sum(hist ** 2)"
   ]
  },
  {
   "cell_type": "code",
   "execution_count": 255,
   "metadata": {},
   "outputs": [
    {
     "name": "stdout",
     "output_type": "stream",
     "text": [
      "[0.82352941 0.17647059]\n",
      "0.290657439446367\n"
     ]
    }
   ],
   "source": [
    "print(sample_weight_gini(np.array([0,0,1,1,1]), np.array([0.1, 1.3, 0.1, 0.1, 0.1])))"
   ]
  },
  {
   "cell_type": "code",
   "execution_count": 256,
   "metadata": {},
   "outputs": [
    {
     "data": {
      "text/plain": [
       "0.8235294117647058"
      ]
     },
     "execution_count": 256,
     "metadata": {},
     "output_type": "execute_result"
    }
   ],
   "source": [
    "1.4/(1.4+0.3)"
   ]
  },
  {
   "cell_type": "code",
   "execution_count": 257,
   "metadata": {},
   "outputs": [
    {
     "name": "stdout",
     "output_type": "stream",
     "text": [
      "[0.82352941 0.17647059]\n",
      "0.290657439446367\n"
     ]
    }
   ],
   "source": [
    "gini = lambda Y, sample_weight: sample_weight_gini(Y, sample_weight)\n",
    "print(gini(np.array([0,0,1,1,1]), np.array([0.1, 1.3, 0.1, 0.1, 0.1])))"
   ]
  },
  {
   "cell_type": "code",
   "execution_count": 296,
   "metadata": {},
   "outputs": [
    {
     "data": {
      "text/plain": [
       "array([0.1, 0.1, 0.1, 0.1, 0.1, 0.1, 0.1, 0.1, 0.1, 0.1])"
      ]
     },
     "execution_count": 296,
     "metadata": {},
     "output_type": "execute_result"
    }
   ],
   "source": [
    "np.ones(10) / 10"
   ]
  },
  {
   "cell_type": "code",
   "execution_count": 318,
   "metadata": {},
   "outputs": [
    {
     "data": {
      "text/plain": [
       "array([0, 9, 7, 7])"
      ]
     },
     "execution_count": 318,
     "metadata": {},
     "output_type": "execute_result"
    }
   ],
   "source": [
    "np.random.choice(10, size=4, replace=True)"
   ]
  },
  {
   "cell_type": "code",
   "execution_count": 301,
   "metadata": {},
   "outputs": [
    {
     "data": {
      "text/plain": [
       "229.25733652752658"
      ]
     },
     "execution_count": 301,
     "metadata": {},
     "output_type": "execute_result"
    }
   ],
   "source": [
    "error=2.721471623028993e-100\n",
    "np.log((1 - error) / error)"
   ]
  },
  {
   "cell_type": "code",
   "execution_count": 325,
   "metadata": {},
   "outputs": [
    {
     "data": {
      "text/plain": [
       "array([[ 54.,   1., 192., ...,   0.,   0.,   1.],\n",
       "       [ 58.,   0., 170., ...,   1.,   0.,   0.],\n",
       "       [ 56.,   1., 130., ...,   0.,   0.,   1.],\n",
       "       ...,\n",
       "       [ 64.,   1., 170., ...,   0.,   0.,   1.],\n",
       "       [ 44.,   1., 130., ...,   0.,   1.,   0.],\n",
       "       [ 57.,   1., 150., ...,   0.,   1.,   0.]])"
      ]
     },
     "execution_count": 325,
     "metadata": {},
     "output_type": "execute_result"
    }
   ],
   "source": [
    "X_train[np.arange(len(X_train))]"
   ]
  },
  {
   "cell_type": "code",
   "execution_count": 326,
   "metadata": {},
   "outputs": [
    {
     "data": {
      "text/plain": [
       "array([[ 54.,   1., 192., ...,   0.,   0.,   1.],\n",
       "       [ 58.,   0., 170., ...,   1.,   0.,   0.],\n",
       "       [ 56.,   1., 130., ...,   0.,   0.,   1.],\n",
       "       ...,\n",
       "       [ 64.,   1., 170., ...,   0.,   0.,   1.],\n",
       "       [ 44.,   1., 130., ...,   0.,   1.,   0.],\n",
       "       [ 57.,   1., 150., ...,   0.,   1.,   0.]])"
      ]
     },
     "execution_count": 326,
     "metadata": {},
     "output_type": "execute_result"
    }
   ],
   "source": [
    "X_train"
   ]
  },
  {
   "cell_type": "code",
   "execution_count": 13,
   "metadata": {},
   "outputs": [
    {
     "name": "stdout",
     "output_type": "stream",
     "text": [
      "[0 8 3 6]\n",
      "[4 5 9 0]\n",
      "[0 1 1 0]\n",
      "[7 9 6 7]\n",
      "[8 0 0 4]\n",
      "[2 8 3 3]\n",
      "[1 6 8 4]\n",
      "[9 3 8 8]\n",
      "[2 6 3 3]\n",
      "[6 2 3 0]\n",
      "[5 3 3 9]\n",
      "[6 2 0 0]\n",
      "[6 6 2 8]\n",
      "[3 1 4 2]\n",
      "[5 7 5 6]\n"
     ]
    }
   ],
   "source": [
    "seed = 2020\n",
    "for i in range(15):\n",
    "    np.random.seed(seed)\n",
    "    seed+=1\n",
    "    print(np.random.choice(10, size=4, replace=True))"
   ]
  },
  {
   "cell_type": "code",
   "execution_count": null,
   "metadata": {},
   "outputs": [],
   "source": []
  }
 ],
 "metadata": {
  "kernelspec": {
   "display_name": "Python 3 (ipykernel)",
   "language": "python",
   "name": "python3"
  },
  "language_info": {
   "codemirror_mode": {
    "name": "ipython",
    "version": 3
   },
   "file_extension": ".py",
   "mimetype": "text/x-python",
   "name": "python",
   "nbconvert_exporter": "python",
   "pygments_lexer": "ipython3",
   "version": "3.8.3"
  }
 },
 "nbformat": 4,
 "nbformat_minor": 4
}
