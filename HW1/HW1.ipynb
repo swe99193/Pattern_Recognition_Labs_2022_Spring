{
 "cells": [
  {
   "cell_type": "markdown",
   "metadata": {},
   "source": [
    "## HW1: Linear Regression using Gradient Descent\n",
    "In hw1, you need to implement linear regression by using only numpy, then train your implemented model by the provided dataset and test the performance with testing data\n",
    "\n",
    "Please note that only **NUMPY** can be used to implement your model, you will get no points by simply calling sklearn.linear_model.LinearRegression"
   ]
  },
  {
   "cell_type": "code",
   "execution_count": 50,
   "metadata": {},
   "outputs": [],
   "source": [
    "import numpy as np \n",
    "import pandas as pd\n",
    "import matplotlib.pyplot as plt"
   ]
  },
  {
   "cell_type": "markdown",
   "metadata": {},
   "source": [
    "## Load data"
   ]
  },
  {
   "cell_type": "code",
   "execution_count": 51,
   "metadata": {},
   "outputs": [],
   "source": [
    "train_df = pd.read_csv(\"train_data.csv\")\n",
    "x_train, y_train = train_df['x_train'], train_df['y_train']"
   ]
  },
  {
   "cell_type": "code",
   "execution_count": 52,
   "metadata": {},
   "outputs": [],
   "source": [
    "test_data = pd.read_csv(\"test_data.csv\")\n",
    "x_test, y_test = test_data['x_test'], test_data['y_test']"
   ]
  },
  {
   "cell_type": "code",
   "execution_count": 53,
   "metadata": {
    "scrolled": false
   },
   "outputs": [
    {
     "data": {
      "text/plain": [
       "[<matplotlib.lines.Line2D at 0x7fae41540220>]"
      ]
     },
     "execution_count": 53,
     "metadata": {},
     "output_type": "execute_result"
    },
    {
     "data": {
      "image/png": "[encoded data removed]",
      "text/plain": [
       "<Figure size 432x288 with 1 Axes>"
      ]
     },
     "metadata": {
      "needs_background": "light"
     },
     "output_type": "display_data"
    }
   ],
   "source": [
    "plt.plot(x_train, y_train, '.')"
   ]
  },
  {
   "cell_type": "code",
   "execution_count": 54,
   "metadata": {},
   "outputs": [
    {
     "name": "stdout",
     "output_type": "stream",
     "text": [
      "(500,)\n",
      "(500,)\n"
     ]
    }
   ],
   "source": [
    "print(x_train.shape)\n",
    "print(y_train.shape)"
   ]
  },
  {
   "cell_type": "markdown",
   "metadata": {},
   "source": [
    "## Train your model \n",
    "### Pseudo code:\n",
    "1. Random initialize the weights, intercepts of the linear model\n",
    "\n",
    "**for i in range(iteration)**\n",
    "\n",
    "    2. Feed foward the training data into the model, get the output prediction\n",
    "    3. Calculating training loss by Mean Square Error of predcition and ground truth data\n",
    "    4. Calculating the gradients\n",
    "    5. Updating the weights and intercepts by the gradients * learning rate \n",
    "    \n",
    "**End of training**"
   ]
  },
  {
   "cell_type": "code",
   "execution_count": 55,
   "metadata": {},
   "outputs": [],
   "source": [
    "class Linear_Regression:\n",
    "    def __init__(self, X, Y, X_test, Y_test):\n",
    "        \"\"\"\n",
    "            (discarded) normalized training data ~ N(0,var)\n",
    "            initialize weights\n",
    "        \"\"\"\n",
    "        # self.__norm_X_mean = np.mean(X)\n",
    "        # self.__norm_X_var = np.var(X)\n",
    "        # self.__X = (X - self.__norm_X_mean) / self.__norm_X_var\n",
    "        # self.__norm_Y_mean = np.mean(X)\n",
    "        # self.__norm_Y_var = np.var(X)\n",
    "        # self.__Y = (Y - self.__norm_Y_mean) / self.__norm_Y_var\n",
    "        self.__X = X\n",
    "        self.__Y = Y\n",
    "        self.__X_test = X_test\n",
    "        self.__Y_test = Y_test\n",
    "        self.__w = [0, np.var(Y)]\n",
    "        # self.__w = [0.79, 0.82]\n",
    "\n",
    "    def train(self, lr=1e-4, batch_size=32, iter_max=100):\n",
    "        self.__lr = lr\n",
    "\n",
    "        train_loss = []\n",
    "        test_loss = []\n",
    "\n",
    "        iter_n = 0\n",
    "\n",
    "        while 1:  # one epoch\n",
    "            iter_n += 1\n",
    "            i = 0  # data index\n",
    "\n",
    "            if iter_n > iter_max:\n",
    "                break\n",
    "\n",
    "            # train with mini-batches\n",
    "            while 1:\n",
    "                n = batch_size if i + batch_size <= self.__Y.shape[0] else self.__Y.shape[\n",
    "                                                                               0] - i  # batch size\n",
    "                X = self.__X[i: i + n]\n",
    "                Y_GT = self.__Y[i: i + n]\n",
    "                Y_pred = self.__w[0] + (self.__w[1] * X)\n",
    "\n",
    "                self.__w[0] = self.__w[0] - (lr * ((1 / n) *\n",
    "                                                   np.sum(Y_pred - Y_GT)))\n",
    "                self.__w[1] = self.__w[1] - (lr * ((1 / n) *\n",
    "                                                   np.sum((Y_pred - Y_GT) * X)))\n",
    "\n",
    "                if i + batch_size >= self.__Y.shape[0]:\n",
    "                    break\n",
    "                else:\n",
    "                    i += batch_size\n",
    "\n",
    "            # print stat\n",
    "            train_loss.append(self.__Loss_func())\n",
    "            test_loss.append(self.predict(self.__X_test, self.__Y_test))\n",
    "            print(\"Iteration: {} Loss: {:.6f}\".format(iter_n, train_loss[iter_n - 1]))\n",
    "\n",
    "        self.__train_loss = train_loss\n",
    "        self.__test_loss = test_loss\n",
    "\n",
    "    def print_weights(self):\n",
    "        print(\"[w0,w1] = {}\".format(self.__w))\n",
    "\n",
    "    def predict(self, X_test, Y_test):\n",
    "        # X_test = (X_test - self.__norm_X_mean) / self.__norm_X_var  # normalize\n",
    "        # Y_test = (Y_test - self.__norm_Y_mean) / self.__norm_Y_var  # normalize\n",
    "\n",
    "        Y_pred = self.__w[0] + (self.__w[1] * X_test)\n",
    "\n",
    "        MSE = (1 / Y_test.shape[0]) * np.sum((Y_pred - Y_test) ** 2)\n",
    "        print(\"MSE: {:.7f}\".format(MSE))\n",
    "        return MSE\n",
    "\n",
    "    def __Loss_func(self):\n",
    "        Y_pred = self.__w[0] + (self.__w[1] * self.__X)\n",
    "        return (1 / self.__Y.shape[0]) * np.sum((Y_pred - self.__Y) ** 2)\n",
    "\n",
    "    def plot_l_curve(self):\n",
    "        \"\"\" plot learning curve: train loss & test loss\"\"\"\n",
    "        plt.plot(np.arange(len(self.__train_loss)), self.__train_loss, label='train loss')\n",
    "        plt.plot(np.arange(len(self.__test_loss)), self.__test_loss, label='val loss')\n",
    "        plt.legend(loc='upper center')\n",
    "        plt.ylabel('Loss')\n",
    "        plt.xlabel('Iterations')\n",
    "        plt.title('learning curve')\n",
    "        plt.show()"
   ]
  },
  {
   "cell_type": "code",
   "execution_count": 56,
   "metadata": {},
   "outputs": [
    {
     "name": "stdout",
     "output_type": "stream",
     "text": [
      "MSE: 0.1945007\n",
      "Iteration: 1 Loss: 0.424714\n",
      "MSE: 0.0913351\n",
      "Iteration: 2 Loss: 0.307225\n",
      "MSE: 0.0696364\n",
      "Iteration: 3 Loss: 0.277484\n",
      "MSE: 0.0664425\n",
      "Iteration: 4 Loss: 0.269939\n",
      "MSE: 0.0668323\n",
      "Iteration: 5 Loss: 0.268021\n",
      "MSE: 0.0675549\n",
      "Iteration: 6 Loss: 0.267532\n",
      "MSE: 0.0680622\n",
      "Iteration: 7 Loss: 0.267407\n",
      "MSE: 0.0683592\n",
      "Iteration: 8 Loss: 0.267375\n",
      "MSE: 0.0685218\n",
      "Iteration: 9 Loss: 0.267367\n",
      "MSE: 0.0686083\n",
      "Iteration: 10 Loss: 0.267365\n",
      "MSE: 0.0686537\n",
      "Iteration: 11 Loss: 0.267364\n",
      "MSE: 0.0686774\n",
      "Iteration: 12 Loss: 0.267364\n",
      "MSE: 0.0686897\n",
      "Iteration: 13 Loss: 0.267364\n",
      "MSE: 0.0686961\n",
      "Iteration: 14 Loss: 0.267364\n",
      "MSE: 0.0686994\n",
      "Iteration: 15 Loss: 0.267364\n",
      "MSE: 0.0687011\n",
      "Iteration: 16 Loss: 0.267364\n",
      "MSE: 0.0687020\n",
      "Iteration: 17 Loss: 0.267364\n",
      "MSE: 0.0687025\n",
      "Iteration: 18 Loss: 0.267364\n",
      "MSE: 0.0687027\n",
      "Iteration: 19 Loss: 0.267364\n",
      "MSE: 0.0687028\n",
      "Iteration: 20 Loss: 0.267364\n",
      "MSE: 0.0687029\n",
      "Iteration: 21 Loss: 0.267364\n",
      "MSE: 0.0687029\n",
      "Iteration: 22 Loss: 0.267364\n",
      "MSE: 0.0687030\n",
      "Iteration: 23 Loss: 0.267364\n",
      "MSE: 0.0687030\n",
      "Iteration: 24 Loss: 0.267364\n",
      "MSE: 0.0687030\n",
      "Iteration: 25 Loss: 0.267364\n",
      "MSE: 0.0687030\n",
      "Iteration: 26 Loss: 0.267364\n",
      "MSE: 0.0687030\n",
      "Iteration: 27 Loss: 0.267364\n",
      "MSE: 0.0687030\n",
      "Iteration: 28 Loss: 0.267364\n",
      "MSE: 0.0687030\n",
      "Iteration: 29 Loss: 0.267364\n",
      "MSE: 0.0687030\n",
      "Iteration: 30 Loss: 0.267364\n",
      "MSE: 0.0687030\n",
      "Iteration: 31 Loss: 0.267364\n",
      "MSE: 0.0687030\n",
      "Iteration: 32 Loss: 0.267364\n",
      "MSE: 0.0687030\n",
      "Iteration: 33 Loss: 0.267364\n",
      "MSE: 0.0687030\n",
      "Iteration: 34 Loss: 0.267364\n",
      "MSE: 0.0687030\n",
      "Iteration: 35 Loss: 0.267364\n",
      "MSE: 0.0687030\n",
      "Iteration: 36 Loss: 0.267364\n",
      "MSE: 0.0687030\n",
      "Iteration: 37 Loss: 0.267364\n",
      "MSE: 0.0687030\n",
      "Iteration: 38 Loss: 0.267364\n",
      "MSE: 0.0687030\n",
      "Iteration: 39 Loss: 0.267364\n",
      "MSE: 0.0687030\n",
      "Iteration: 40 Loss: 0.267364\n",
      "[w0,w1] = [0.7845650819150308, 0.8179703770338392]\n"
     ]
    }
   ],
   "source": [
    "# Main program\n",
    "model = Linear_Regression(x_train, y_train, x_test, y_test)\n",
    "model.train(lr=0.5, batch_size=x_train.shape[0], iter_max=40)\n",
    "model.print_weights()"
   ]
  },
  {
   "cell_type": "markdown",
   "metadata": {},
   "source": [
    "### Plot learning Curve"
   ]
  },
  {
   "cell_type": "code",
   "execution_count": 57,
   "metadata": {},
   "outputs": [
    {
     "data": {
      "image/png": "[encoded data removed]",
      "text/plain": [
       "<Figure size 432x288 with 1 Axes>"
      ]
     },
     "metadata": {
      "needs_background": "light"
     },
     "output_type": "display_data"
    }
   ],
   "source": [
    "model.plot_l_curve()"
   ]
  },
  {
   "cell_type": "markdown",
   "metadata": {},
   "source": [
    "## Test the performance on the testing data\n",
    "Inference the test data (x_test) by your model and calculate the MSE of (y_test, y_pred)"
   ]
  },
  {
   "cell_type": "code",
   "execution_count": 58,
   "metadata": {
    "scrolled": true
   },
   "outputs": [
    {
     "name": "stdout",
     "output_type": "stream",
     "text": [
      "MSE: 0.0687030\n"
     ]
    },
    {
     "data": {
      "text/plain": [
       "0.06870297320719052"
      ]
     },
     "execution_count": 58,
     "metadata": {},
     "output_type": "execute_result"
    }
   ],
   "source": [
    "model.predict(x_test, y_test)"
   ]
  },
  {
   "cell_type": "code",
   "execution_count": null,
   "metadata": {},
   "outputs": [],
   "source": []
  }
 ],
 "metadata": {
  "kernelspec": {
   "display_name": "Python 3",
   "language": "python",
   "name": "python3"
  },
  "language_info": {
   "codemirror_mode": {
    "name": "ipython",
    "version": 3
   },
   "file_extension": ".py",
   "mimetype": "text/x-python",
   "name": "python",
   "nbconvert_exporter": "python",
   "pygments_lexer": "ipython3",
   "version": "3.8.3"
  }
 },
 "nbformat": 4,
 "nbformat_minor": 4
}
