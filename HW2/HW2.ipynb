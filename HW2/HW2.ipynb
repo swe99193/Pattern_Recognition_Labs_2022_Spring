{
 "cells": [
  {
   "cell_type": "markdown",
   "metadata": {},
   "source": [
    "## HW2: Linear Discriminant Analysis\n",
    "In hw2, you need to implement [Fisher’s linear discriminant](https://towardsdatascience.com/fishers-linear-discriminant-intuitively-explained-52a1ba79e1bb) by using only numpy, then train your implemented model by the provided dataset and test the performance with testing data\n",
    "\n",
    "Please note that only **NUMPY** can be used to implement your model, you will get **zero point** by simply calling `sklearn.discriminant_analysis.LinearDiscriminantAnalysis` "
   ]
  },
  {
   "cell_type": "markdown",
   "metadata": {},
   "source": [
    "## Load data"
   ]
  },
  {
   "cell_type": "code",
   "execution_count": 111,
   "metadata": {},
   "outputs": [],
   "source": [
    "import pandas as pd\n",
    "from numpy.linalg import inv\n",
    "from numpy import abs\n",
    "import numpy as np\n",
    "from sklearn.metrics import accuracy_score\n",
    "import matplotlib.pyplot as plt"
   ]
  },
  {
   "cell_type": "code",
   "execution_count": 112,
   "metadata": {},
   "outputs": [],
   "source": [
    "x_train = pd.read_csv(\"x_train.csv\").values\n",
    "y_train = pd.read_csv(\"y_train.csv\").values[:, 0]\n",
    "x_test = pd.read_csv(\"x_test.csv\").values\n",
    "y_test = pd.read_csv(\"y_test.csv\").values[:, 0]"
   ]
  },
  {
   "cell_type": "code",
   "execution_count": 113,
   "metadata": {},
   "outputs": [
    {
     "name": "stdout",
     "output_type": "stream",
     "text": [
      "(750, 2)\n",
      "(379, 2)\n",
      "(371, 2)\n"
     ]
    }
   ],
   "source": [
    "x_train_C0 = x_train[np.where(y_train == 0)]\n",
    "x_train_C1 = x_train[np.where(y_train == 1)]\n",
    "print(x_train.shape)\n",
    "print(x_train_C0.shape)\n",
    "print(x_train_C1.shape)"
   ]
  },
  {
   "cell_type": "markdown",
   "metadata": {},
   "source": [
    "## 1. Compute the mean vectors mi, (i=1,2) of each 2 classes"
   ]
  },
  {
   "cell_type": "code",
   "execution_count": 114,
   "metadata": {},
   "outputs": [],
   "source": [
    "m0 = np.mean(x_train_C0, axis=0)\n",
    "m1 = np.mean(x_train_C1, axis=0)"
   ]
  },
  {
   "cell_type": "code",
   "execution_count": 115,
   "metadata": {},
   "outputs": [
    {
     "name": "stdout",
     "output_type": "stream",
     "text": [
      "mean vector of class 0: [2.47107265 1.97913899] mean vector of class 1: [1.82380675 3.03051876]\n"
     ]
    }
   ],
   "source": [
    "print(f\"mean vector of class 0: {m0}\", f\"mean vector of class 1: {m1}\")"
   ]
  },
  {
   "cell_type": "markdown",
   "metadata": {},
   "source": [
    "## 2. Compute the Within-class scatter matrix SW"
   ]
  },
  {
   "cell_type": "code",
   "execution_count": 116,
   "metadata": {},
   "outputs": [],
   "source": [
    "sw = np.zeros((2, 2))\n",
    "for i in range(x_train_C0.shape[0]):\n",
    "    v = x_train_C0[i] - m0\n",
    "    sw += np.outer(v, v)\n",
    "for i in range(x_train_C1.shape[0]):\n",
    "    v = x_train_C1[i] - m1\n",
    "    sw += np.outer(v, v)"
   ]
  },
  {
   "cell_type": "code",
   "execution_count": 117,
   "metadata": {},
   "outputs": [
    {
     "name": "stdout",
     "output_type": "stream",
     "text": [
      "Within-class scatter matrix SW: [[140.40036447  -5.30881553]\n",
      " [ -5.30881553 138.14297637]]\n"
     ]
    }
   ],
   "source": [
    "assert sw.shape == (2, 2)\n",
    "print(f\"Within-class scatter matrix SW: {sw}\")"
   ]
  },
  {
   "cell_type": "markdown",
   "metadata": {},
   "source": [
    "## 3.  Compute the Between-class scatter matrix SB"
   ]
  },
  {
   "cell_type": "code",
   "execution_count": 118,
   "metadata": {},
   "outputs": [],
   "source": [
    "M0 = m0.reshape(m0.shape[0], 1)\n",
    "M1 = m1.reshape(m1.shape[0], 1)\n",
    "v = m1 - m0\n",
    "sb = np.outer(v, v)"
   ]
  },
  {
   "cell_type": "code",
   "execution_count": 119,
   "metadata": {},
   "outputs": [
    {
     "name": "stdout",
     "output_type": "stream",
     "text": [
      "Between-class scatter matrix SB: [[ 0.41895314 -0.68052227]\n",
      " [-0.68052227  1.10539942]]\n"
     ]
    }
   ],
   "source": [
    "assert sb.shape == (2, 2)\n",
    "print(f\"Between-class scatter matrix SB: {sb}\")"
   ]
  },
  {
   "cell_type": "markdown",
   "metadata": {},
   "source": [
    "## 4. Compute the Fisher’s linear discriminant"
   ]
  },
  {
   "cell_type": "code",
   "execution_count": 120,
   "metadata": {},
   "outputs": [],
   "source": [
    "w = inv(sw) @ (M1 - M0)"
   ]
  },
  {
   "cell_type": "code",
   "execution_count": 121,
   "metadata": {},
   "outputs": [
    {
     "name": "stdout",
     "output_type": "stream",
     "text": [
      " Fisher’s linear discriminant: [[-0.00432865]\n",
      " [ 0.00744446]]\n"
     ]
    }
   ],
   "source": [
    "assert w.shape == (2, 1)\n",
    "print(f\" Fisher’s linear discriminant: {w}\")"
   ]
  },
  {
   "cell_type": "code",
   "execution_count": 122,
   "metadata": {},
   "outputs": [
    {
     "data": {
      "text/plain": [
       "array([[-0.00432865,  0.00744446]])"
      ]
     },
     "execution_count": 122,
     "metadata": {},
     "output_type": "execute_result"
    }
   ],
   "source": [
    "w.T"
   ]
  },
  {
   "cell_type": "markdown",
   "metadata": {},
   "source": [
    "## 5. Project the test data by linear discriminant and get the class prediction by nearest-neighbor rule.  Calculate the accuracy score \n",
    "you can use `accuracy_score` function from `sklearn.metric.accuracy_score`"
   ]
  },
  {
   "cell_type": "code",
   "execution_count": 123,
   "metadata": {},
   "outputs": [],
   "source": [
    "proj_C0 = np.dot(w.T, x_train_C0.T)\n",
    "proj_C1 = np.dot(w.T, x_train_C1.T)\n",
    "proj = np.dot(w.T, x_test.T)"
   ]
  },
  {
   "cell_type": "code",
   "execution_count": 124,
   "metadata": {},
   "outputs": [
    {
     "name": "stdout",
     "output_type": "stream",
     "text": [
      "(1, 379)\n",
      "(1, 371)\n",
      "(1, 250)\n"
     ]
    }
   ],
   "source": [
    "print(proj_C0.shape)\n",
    "print(proj_C1.shape)\n",
    "print(proj.shape)"
   ]
  },
  {
   "cell_type": "code",
   "execution_count": 125,
   "metadata": {},
   "outputs": [],
   "source": [
    "# Appoach 1: KNN\n",
    "k = 17\n",
    "y_pred = []\n",
    "for i in range(proj.shape[1]):\n",
    "    dist = []\n",
    "    for j in range(proj_C0.shape[1]):\n",
    "        dist.append(((proj[0][i] - proj_C0[0][j]) ** 2, 0))\n",
    "\n",
    "    for j in range(proj_C1.shape[1]):\n",
    "        dist.append(((proj[0][i] - proj_C1[0][j]) ** 2, 1))\n",
    "\n",
    "    dist.sort()\n",
    "\n",
    "    cls_0 = cls_1 = 0\n",
    "    for j in range(k):\n",
    "        if dist[j][1] == 0:\n",
    "            cls_0 += 1\n",
    "        else:\n",
    "            cls_1 += 1\n",
    "\n",
    "    if cls_0 > cls_1:\n",
    "        y_pred.append(0)\n",
    "    else:\n",
    "        y_pred.append(1)"
   ]
  },
  {
   "cell_type": "code",
   "execution_count": null,
   "metadata": {},
   "outputs": [],
   "source": [
    "# Appoach 2: distance to means\n",
    "# proj_C0 = np.dot(w.T, x_train_C0.T)\n",
    "# proj_C1 = np.dot(w.T, x_train_C1.T)\n",
    "# proj = np.dot(w.T, x_test.T)\n",
    "\n",
    "# y_pred = []\n",
    "\n",
    "# for i in range(proj.shape[1]):\n",
    "#     if np.sum((proj[0][i] - proj_C0[0])**2) < np.sum((proj[0][i] - proj_C1[0])**2):\n",
    "#          y_pred.append(0)\n",
    "#     else:\n",
    "#          y_pred.append(1)\n",
    "\n",
    "# acc = accuracy_score(y_test, y_pred)\n",
    "\n",
    "# print(f\"Accuracy of test-set {acc}\")"
   ]
  },
  {
   "cell_type": "code",
   "execution_count": 126,
   "metadata": {},
   "outputs": [
    {
     "name": "stdout",
     "output_type": "stream",
     "text": [
      "Accuracy of test-set 0.912\n"
     ]
    }
   ],
   "source": [
    "acc = accuracy_score(y_test, y_pred)\n",
    "print(f\"Accuracy of test-set {acc}\")"
   ]
  },
  {
   "cell_type": "markdown",
   "metadata": {},
   "source": [
    "## 6. Plot the 1) best projection line on the training data and show the slope and intercept on the title (you can choose any value of intercept for better visualization) 2) colorize the data with each class 3) project all data points on your projection line. Your result should look like [this image](https://i.imgur.com/tubMQpw.jpg)"
   ]
  },
  {
   "cell_type": "code",
   "execution_count": 127,
   "metadata": {},
   "outputs": [],
   "source": [
    "x0_C0, x1_C0 = x_train_C0.T[0], x_train_C0.T[1]\n",
    "x0_C1, x1_C1 = x_train_C1.T[0], x_train_C1.T[1]\n",
    "X = np.linspace(-2, 2, 10)\n",
    "m = w[1] / w[0]\n",
    "Y = m * X"
   ]
  },
  {
   "cell_type": "code",
   "execution_count": 128,
   "metadata": {},
   "outputs": [
    {
     "name": "stdout",
     "output_type": "stream",
     "text": [
      "[35.79507518]\n",
      "[[-0.00432865]\n",
      " [ 0.00744446]]\n",
      "[-0.1549445   0.26647497]\n"
     ]
    }
   ],
   "source": [
    "proj_coord_C0 = x_train_C0 @ w.reshape(w.shape[0], 1) / np.sum(w ** 2) * w.reshape(1, w.shape[0])\n",
    "proj_coord_C1 = x_train_C1 @ w.reshape(w.shape[0], 1) / np.sum(w ** 2) * w.reshape(1, w.shape[0])\n",
    "\n",
    "print((x_train_C0 @ w.reshape(w.shape[0], 1) / np.sum(w ** 2))[10])\n",
    "print(w)\n",
    "print(proj_coord_C0[10])\n",
    "\n",
    "x0_proj_C0, x1_proj_C0 = proj_coord_C0.T[0], proj_coord_C0.T[1]\n",
    "x0_proj_C1, x1_proj_C1 = proj_coord_C1.T[0], proj_coord_C1.T[1]"
   ]
  },
  {
   "cell_type": "code",
   "execution_count": 131,
   "metadata": {},
   "outputs": [
    {
     "data": {
      "image/png": "[encoded data removed]",
      "text/plain": [
       "<Figure size 432x288 with 1 Axes>"
      ]
     },
     "metadata": {
      "needs_background": "light"
     },
     "output_type": "display_data"
    }
   ],
   "source": [
    "plt.plot(x0_C0, x1_C0, 'r.')\n",
    "plt.plot(x0_C1, x1_C1, 'b.')\n",
    "plt.plot(X, Y, 'c')\n",
    "plt.plot(x0_proj_C0, x1_proj_C0, 'r.')\n",
    "plt.plot(x0_proj_C1, x1_proj_C1, 'b.')\n",
    "\n",
    "for i in range(x0_C0.shape[0]):\n",
    "    plt.plot([x0_C0[i], x0_proj_C0[i]], [x1_C0[i], x1_proj_C0[i]], 'r:', linewidth=0.1)\n",
    "\n",
    "for i in range(x0_C1.shape[0]):\n",
    "    plt.plot([x0_C1[i], x0_proj_C1[i]], [x1_C1[i], x1_proj_C1[i]], 'b:', linewidth=0.1)\n",
    "\n",
    "plt.xlim([-1, 4])\n",
    "plt.ylim([-1, 4])\n",
    "plt.axis('square')\n",
    "plt.title(f'Projection Line: w=%.5f , b=0' % m)\n",
    "plt.show()"
   ]
  }
 ],
 "metadata": {
  "kernelspec": {
   "display_name": "Python 3",
   "language": "python",
   "name": "python3"
  },
  "language_info": {
   "codemirror_mode": {
    "name": "ipython",
    "version": 3
   },
   "file_extension": ".py",
   "mimetype": "text/x-python",
   "name": "python",
   "nbconvert_exporter": "python",
   "pygments_lexer": "ipython3",
   "version": "3.8.3"
  }
 },
 "nbformat": 4,
 "nbformat_minor": 4
}
