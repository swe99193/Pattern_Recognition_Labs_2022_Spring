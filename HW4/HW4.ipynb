{
 "cells": [
  {
   "cell_type": "code",
   "execution_count": 1,
   "metadata": {},
   "outputs": [],
   "source": [
    "import numpy as np\n",
    "import pandas as pd\n",
    "from sklearn.svm import SVC, SVR\n",
    "from sklearn.metrics import accuracy_score\n",
    "import seaborn as sns\n",
    "import matplotlib.pylab as plt"
   ]
  },
  {
   "cell_type": "markdown",
   "metadata": {},
   "source": [
    "## Load data"
   ]
  },
  {
   "cell_type": "code",
   "execution_count": 2,
   "metadata": {},
   "outputs": [],
   "source": [
    "x_train = np.load(\"x_train.npy\")\n",
    "y_train = np.load(\"y_train.npy\")\n",
    "x_test = np.load(\"x_test.npy\")\n",
    "y_test = np.load(\"y_test.npy\")"
   ]
  },
  {
   "cell_type": "code",
   "execution_count": 3,
   "metadata": {},
   "outputs": [
    {
     "name": "stdout",
     "output_type": "stream",
     "text": [
      "(550, 300)\n",
      "(192, 300)\n"
     ]
    }
   ],
   "source": [
    "# 550 data with 300 features\n",
    "print(x_train.shape)\n",
    "print(x_test.shape)"
   ]
  },
  {
   "cell_type": "code",
   "execution_count": 4,
   "metadata": {},
   "outputs": [
    {
     "name": "stdout",
     "output_type": "stream",
     "text": [
      "[0 1]\n"
     ]
    }
   ],
   "source": [
    "# It's a binary classification problem\n",
    "print(np.unique(y_train))"
   ]
  },
  {
   "cell_type": "markdown",
   "metadata": {},
   "source": [
    "## Question 1\n",
    "K-fold data partition: Implement the K-fold cross-validation function. Your function should take K as an argument and return a list of lists (len(list) should equal to K), which contains K elements. Each element is a list contains two parts, the first part contains the index of all training folds, e.g. Fold 2 to Fold 5 in split 1. The second part contains the index of validation fold, e.g. Fold 1 in  split 1"
   ]
  },
  {
   "cell_type": "code",
   "execution_count": 5,
   "metadata": {},
   "outputs": [],
   "source": [
    "seed = 100\n",
    "\n",
    "\n",
    "def cross_validation(x_train, y_train, k=5):\n",
    "    X = np.arange(len(x_train))\n",
    "    np.random.seed(seed)\n",
    "    np.random.shuffle(X)\n",
    "    kfold_data = []\n",
    "\n",
    "    tmp = len(X) % k\n",
    "    s1 = 0\n",
    "    idx_list = []\n",
    "\n",
    "    for i in range(k):\n",
    "        l = len(X) // k\n",
    "        if i < tmp:\n",
    "            l += 1\n",
    "        s2 = s1 + l\n",
    "        idx_list.append((s1, s2))\n",
    "        s1 += l\n",
    "\n",
    "    for s1, s2 in idx_list:\n",
    "        indices = list(range(0, s1)) + list(range(s2, len(X)))\n",
    "        kfold_data.append([X[indices], X[range(s1, s2)]])\n",
    "\n",
    "    return kfold_data"
   ]
  },
  {
   "cell_type": "code",
   "execution_count": 6,
   "metadata": {},
   "outputs": [],
   "source": [
    "kfold_data = cross_validation(x_train, y_train, k=10)\n",
    "assert len(kfold_data) == 10  # should contain 10 fold of data\n",
    "# each element should contain train fold and validation fold\n",
    "assert len(kfold_data[0]) == 2\n",
    "# The number of data in each validation fold should equal to training data divieded by K\n",
    "assert kfold_data[0][1].shape[0] == 55"
   ]
  },
  {
   "cell_type": "code",
   "execution_count": 7,
   "metadata": {},
   "outputs": [
    {
     "name": "stdout",
     "output_type": "stream",
     "text": [
      "[array([ 98, 515, 348, 240, 241,  31,  72, 417, 470, 108, 412, 103, 489,\n",
      "       518,  56, 173, 476, 502, 509,  97, 205,  78, 118, 288, 372,  37,\n",
      "         6, 424,  58, 535, 290, 326, 249, 542, 512, 392, 125,  51, 219,\n",
      "       133, 368, 410, 430, 272, 229, 120,  90, 494, 321, 191, 310,  62,\n",
      "       235,  69, 454, 270, 453, 255, 421,  22,  41,  91, 352, 481, 260,\n",
      "         1, 485, 190, 244, 136, 459,  43, 519, 455, 495, 140, 275,  23,\n",
      "       189,  20, 152, 335, 163, 184, 100,   7, 337, 517,  18, 379, 514,\n",
      "       328, 530, 442, 213, 523, 384, 510,  55, 287, 399, 416, 227,  61,\n",
      "       330, 395, 282, 473, 268, 225, 471,  46,  50, 365, 169,  19, 159,\n",
      "        35,  28, 216, 254, 312, 423, 154, 539,  96,  33, 239, 486, 129,\n",
      "       456, 267,  21, 155, 544, 461, 487, 265, 124, 231, 451, 230, 533,\n",
      "        75, 206, 203,  84, 393, 548, 126, 373, 443, 137, 297, 468,  64,\n",
      "       367,   5, 450, 531, 315, 259, 127,  47, 505, 300, 209, 400, 411,\n",
      "        80, 197, 338, 263, 174, 178,  88, 360,  45, 331, 524, 167, 500,\n",
      "       308, 333, 271,  27, 387, 110, 158, 359, 121, 356, 504, 457, 492,\n",
      "       324, 105, 449, 378, 134,  48, 339, 363, 202, 484, 391, 319, 511,\n",
      "        60, 458, 302,  10, 247, 397,   8,  59, 234, 151, 353, 366, 161,\n",
      "       418, 374, 388, 132, 147,  26,  99, 341,  39, 325, 381, 382, 233,\n",
      "       266, 344, 351, 401,  65, 357, 370, 204, 187, 128, 448, 482, 445,\n",
      "       490, 447, 354, 296, 294,  32, 304, 269, 343, 123, 323, 540,  71,\n",
      "       474, 211, 115, 413,  85, 201, 164,  52, 292, 285, 305, 139, 491,\n",
      "       162, 332, 177, 376, 462, 498, 532, 318, 258, 113, 208, 112, 293,\n",
      "       246, 248,  42,  83, 465, 398, 440, 463, 549, 537, 298, 193, 380,\n",
      "       506, 242, 179,  87, 313, 311, 278, 483, 101,  11, 501, 364, 143,\n",
      "       194, 281,  81, 536,  82, 156, 425, 439,  74, 224, 466, 218, 508,\n",
      "       145, 493, 130, 522, 545, 529, 534, 210, 284,  24, 168, 148, 472,\n",
      "       371,  14, 385, 496,  77, 405, 547,  34, 346, 389, 144, 322, 182,\n",
      "       232,  73, 541, 383,  57, 245,  44,  92, 375, 349, 146, 396, 414,\n",
      "       200, 264, 138, 276, 223, 220,  67, 109, 342,  12,  16, 291, 429,\n",
      "        89, 301, 516, 408, 243,  66, 377, 286, 307, 222, 107, 295, 186,\n",
      "       116, 122, 358, 165, 262, 438, 409, 277, 432,   9, 253, 407, 419,\n",
      "       452, 306, 446, 196, 309, 527, 480, 183, 250, 256, 406, 426, 102,\n",
      "       314, 289,  76, 119, 237, 114,  95, 340, 170, 226,  94, 214,  38,\n",
      "       327, 261,  36, 299, 180, 176, 361, 497, 444, 215, 394, 207, 212,\n",
      "       499,  70, 131, 362, 460, 185,  13,   0, 334, 525, 467, 475, 347,\n",
      "       488, 434,  68, 546,  17,  30, 273, 437, 192, 274, 172, 303, 369,\n",
      "       238, 283, 181,  63, 403, 478,   2, 336, 317, 431,  49, 135,   4,\n",
      "       141, 415, 386,  86,  93, 507, 316, 228, 280, 526,  53, 350,  79,\n",
      "       520]), array([345, 236, 503, 435, 175, 153, 329, 404, 171,  25, 436,  54, 433,\n",
      "       195,  40, 538, 402, 420,   3, 390, 221, 528, 521, 464, 157, 513,\n",
      "       149, 477, 427, 198, 422, 355, 188, 469,  15, 257, 428, 199, 441,\n",
      "       217, 104, 479, 160, 117, 320, 543, 106, 166, 111, 252,  29, 279,\n",
      "       142, 150, 251])]\n"
     ]
    }
   ],
   "source": [
    "print(kfold_data[0])"
   ]
  },
  {
   "cell_type": "markdown",
   "metadata": {},
   "source": [
    "## example"
   ]
  },
  {
   "cell_type": "code",
   "execution_count": 8,
   "metadata": {},
   "outputs": [
    {
     "name": "stdout",
     "output_type": "stream",
     "text": [
      "Split: 1, Training index: [ 4  5  6  7  8  9 10 11 12 13 14 15 16 17 18 19], Validation index: [0 1 2 3]\n",
      "Split: 2, Training index: [ 0  1  2  3  8  9 10 11 12 13 14 15 16 17 18 19], Validation index: [4 5 6 7]\n",
      "Split: 3, Training index: [ 0  1  2  3  4  5  6  7 12 13 14 15 16 17 18 19], Validation index: [ 8  9 10 11]\n",
      "Split: 4, Training index: [ 0  1  2  3  4  5  6  7  8  9 10 11 16 17 18 19], Validation index: [12 13 14 15]\n",
      "Split: 5, Training index: [ 0  1  2  3  4  5  6  7  8  9 10 11 12 13 14 15], Validation index: [16 17 18 19]\n"
     ]
    }
   ],
   "source": [
    "from sklearn.model_selection import KFold\n",
    "\n",
    "X = np.arange(20)\n",
    "kf = KFold(n_splits=5, shuffle=False)\n",
    "kfold_data = []\n",
    "for i, (train_index, val_index) in enumerate(kf.split(X)):\n",
    "    print(\"Split: %s, Training index: %s, Validation index: %s\" %\n",
    "          (i+1, train_index, val_index))\n",
    "    kfold_data.append([train_index, val_index])"
   ]
  },
  {
   "cell_type": "code",
   "execution_count": 9,
   "metadata": {},
   "outputs": [],
   "source": [
    "assert len(kfold_data) == 5  # should contain 5 fold of data\n",
    "# each element should contains index of training fold and validation fold\n",
    "assert len(kfold_data[0]) == 2\n",
    "# The number of data in each validation fold should equal to training data divieded by K\n",
    "assert kfold_data[0][1].shape[0] == 4"
   ]
  },
  {
   "cell_type": "markdown",
   "metadata": {},
   "source": [
    "## Question 2\n",
    "Using sklearn.svm.SVC to train a classifier on the provided train set and conduct the grid search of “C” and “gamma” to find the best parameters by cross-validation."
   ]
  },
  {
   "cell_type": "code",
   "execution_count": 10,
   "metadata": {},
   "outputs": [
    {
     "name": "stdout",
     "output_type": "stream",
     "text": [
      "C: 1e-05  gamma: 1e-05 Val acc: 0.6890909090909091\n",
      "C: 1e-05  gamma: 0.0001 Val acc: 0.6890909090909091\n",
      "C: 1e-05  gamma: 0.001 Val acc: 0.6890909090909091\n",
      "C: 1e-05  gamma: 0.01 Val acc: 0.6890909090909091\n",
      "C: 1e-05  gamma: 0.1 Val acc: 0.6890909090909091\n",
      "C: 1e-05  gamma: 1 Val acc: 0.6890909090909091\n",
      "C: 1e-05  gamma: 10 Val acc: 0.6890909090909091\n",
      "C: 1e-05  gamma: 100 Val acc: 0.6890909090909091\n",
      "C: 1e-05  gamma: 1000 Val acc: 0.6890909090909091\n",
      "C: 1e-05  gamma: 10000 Val acc: 0.6890909090909091\n",
      "C: 1e-05  gamma: 100000 Val acc: 0.6890909090909091\n",
      "C: 0.0001  gamma: 1e-05 Val acc: 0.6890909090909091\n",
      "C: 0.0001  gamma: 0.0001 Val acc: 0.6890909090909091\n",
      "C: 0.0001  gamma: 0.001 Val acc: 0.6890909090909091\n",
      "C: 0.0001  gamma: 0.01 Val acc: 0.6890909090909091\n",
      "C: 0.0001  gamma: 0.1 Val acc: 0.6890909090909091\n",
      "C: 0.0001  gamma: 1 Val acc: 0.6890909090909091\n",
      "C: 0.0001  gamma: 10 Val acc: 0.6890909090909091\n",
      "C: 0.0001  gamma: 100 Val acc: 0.6890909090909091\n",
      "C: 0.0001  gamma: 1000 Val acc: 0.6890909090909091\n",
      "C: 0.0001  gamma: 10000 Val acc: 0.6890909090909091\n",
      "C: 0.0001  gamma: 100000 Val acc: 0.6890909090909091\n",
      "C: 0.001  gamma: 1e-05 Val acc: 0.6890909090909091\n",
      "C: 0.001  gamma: 0.0001 Val acc: 0.6890909090909091\n",
      "C: 0.001  gamma: 0.001 Val acc: 0.6890909090909091\n",
      "C: 0.001  gamma: 0.01 Val acc: 0.6890909090909091\n",
      "C: 0.001  gamma: 0.1 Val acc: 0.6890909090909091\n",
      "C: 0.001  gamma: 1 Val acc: 0.6890909090909091\n",
      "C: 0.001  gamma: 10 Val acc: 0.6890909090909091\n",
      "C: 0.001  gamma: 100 Val acc: 0.6890909090909091\n",
      "C: 0.001  gamma: 1000 Val acc: 0.6890909090909091\n",
      "C: 0.001  gamma: 10000 Val acc: 0.6890909090909091\n",
      "C: 0.001  gamma: 100000 Val acc: 0.6890909090909091\n",
      "C: 0.01  gamma: 1e-05 Val acc: 0.6890909090909091\n",
      "C: 0.01  gamma: 0.0001 Val acc: 0.6890909090909091\n",
      "C: 0.01  gamma: 0.001 Val acc: 0.6890909090909091\n",
      "C: 0.01  gamma: 0.01 Val acc: 0.6890909090909091\n",
      "C: 0.01  gamma: 0.1 Val acc: 0.6890909090909091\n",
      "C: 0.01  gamma: 1 Val acc: 0.6890909090909091\n",
      "C: 0.01  gamma: 10 Val acc: 0.6890909090909091\n",
      "C: 0.01  gamma: 100 Val acc: 0.6890909090909091\n",
      "C: 0.01  gamma: 1000 Val acc: 0.6890909090909091\n",
      "C: 0.01  gamma: 10000 Val acc: 0.6890909090909091\n",
      "C: 0.01  gamma: 100000 Val acc: 0.6890909090909091\n",
      "C: 0.1  gamma: 1e-05 Val acc: 0.6890909090909091\n",
      "C: 0.1  gamma: 0.0001 Val acc: 0.6890909090909091\n",
      "C: 0.1  gamma: 0.001 Val acc: 0.6890909090909091\n",
      "C: 0.1  gamma: 0.01 Val acc: 0.6890909090909091\n",
      "C: 0.1  gamma: 0.1 Val acc: 0.6890909090909091\n",
      "C: 0.1  gamma: 1 Val acc: 0.6890909090909091\n",
      "C: 0.1  gamma: 10 Val acc: 0.6890909090909091\n",
      "C: 0.1  gamma: 100 Val acc: 0.6890909090909091\n",
      "C: 0.1  gamma: 1000 Val acc: 0.6890909090909091\n",
      "C: 0.1  gamma: 10000 Val acc: 0.6890909090909091\n",
      "C: 0.1  gamma: 100000 Val acc: 0.6890909090909091\n",
      "C: 1  gamma: 1e-05 Val acc: 0.6890909090909091\n",
      "C: 1  gamma: 0.0001 Val acc: 0.6890909090909091\n",
      "C: 1  gamma: 0.001 Val acc: 0.6890909090909091\n",
      "C: 1  gamma: 0.01 Val acc: 0.6890909090909091\n",
      "C: 1  gamma: 0.1 Val acc: 0.6890909090909091\n",
      "C: 1  gamma: 1 Val acc: 0.6890909090909091\n",
      "C: 1  gamma: 10 Val acc: 0.6890909090909091\n",
      "C: 1  gamma: 100 Val acc: 0.6890909090909091\n",
      "C: 1  gamma: 1000 Val acc: 0.6890909090909091\n",
      "C: 1  gamma: 10000 Val acc: 0.6890909090909091\n",
      "C: 1  gamma: 100000 Val acc: 0.6890909090909091\n",
      "C: 10  gamma: 1e-05 Val acc: 0.6890909090909091\n",
      "C: 10  gamma: 0.0001 Val acc: 0.7418181818181819\n",
      "C: 10  gamma: 0.001 Val acc: 0.889090909090909\n",
      "C: 10  gamma: 0.01 Val acc: 0.6909090909090909\n",
      "C: 10  gamma: 0.1 Val acc: 0.6890909090909091\n",
      "C: 10  gamma: 1 Val acc: 0.6890909090909091\n",
      "C: 10  gamma: 10 Val acc: 0.6890909090909091\n",
      "C: 10  gamma: 100 Val acc: 0.6890909090909091\n",
      "C: 10  gamma: 1000 Val acc: 0.6890909090909091\n",
      "C: 10  gamma: 10000 Val acc: 0.6890909090909091\n",
      "C: 10  gamma: 100000 Val acc: 0.6890909090909091\n",
      "C: 100  gamma: 1e-05 Val acc: 0.7563636363636363\n",
      "C: 100  gamma: 0.0001 Val acc: 0.8927272727272728\n",
      "C: 100  gamma: 0.001 Val acc: 0.889090909090909\n",
      "C: 100  gamma: 0.01 Val acc: 0.6909090909090909\n",
      "C: 100  gamma: 0.1 Val acc: 0.6890909090909091\n",
      "C: 100  gamma: 1 Val acc: 0.6890909090909091\n",
      "C: 100  gamma: 10 Val acc: 0.6890909090909091\n",
      "C: 100  gamma: 100 Val acc: 0.6890909090909091\n",
      "C: 100  gamma: 1000 Val acc: 0.6890909090909091\n",
      "C: 100  gamma: 10000 Val acc: 0.6890909090909091\n",
      "C: 100  gamma: 100000 Val acc: 0.6890909090909091\n",
      "C: 1000  gamma: 1e-05 Val acc: 0.8927272727272728\n",
      "C: 1000  gamma: 0.0001 Val acc: 0.8945454545454545\n",
      "C: 1000  gamma: 0.001 Val acc: 0.889090909090909\n",
      "C: 1000  gamma: 0.01 Val acc: 0.6909090909090909\n",
      "C: 1000  gamma: 0.1 Val acc: 0.6890909090909091\n",
      "C: 1000  gamma: 1 Val acc: 0.6890909090909091\n",
      "C: 1000  gamma: 10 Val acc: 0.6890909090909091\n",
      "C: 1000  gamma: 100 Val acc: 0.6890909090909091\n",
      "C: 1000  gamma: 1000 Val acc: 0.6890909090909091\n",
      "C: 1000  gamma: 10000 Val acc: 0.6890909090909091\n",
      "C: 1000  gamma: 100000 Val acc: 0.6890909090909091\n",
      "C: 10000  gamma: 1e-05 Val acc: 0.889090909090909\n",
      "C: 10000  gamma: 0.0001 Val acc: 0.8945454545454545\n",
      "C: 10000  gamma: 0.001 Val acc: 0.889090909090909\n",
      "C: 10000  gamma: 0.01 Val acc: 0.6909090909090909\n",
      "C: 10000  gamma: 0.1 Val acc: 0.6890909090909091\n",
      "C: 10000  gamma: 1 Val acc: 0.6890909090909091\n",
      "C: 10000  gamma: 10 Val acc: 0.6890909090909091\n",
      "C: 10000  gamma: 100 Val acc: 0.6890909090909091\n",
      "C: 10000  gamma: 1000 Val acc: 0.6890909090909091\n",
      "C: 10000  gamma: 10000 Val acc: 0.6890909090909091\n",
      "C: 10000  gamma: 100000 Val acc: 0.6890909090909091\n",
      "C: 100000  gamma: 1e-05 Val acc: 0.889090909090909\n",
      "C: 100000  gamma: 0.0001 Val acc: 0.8945454545454545\n",
      "C: 100000  gamma: 0.001 Val acc: 0.889090909090909\n",
      "C: 100000  gamma: 0.01 Val acc: 0.6909090909090909\n",
      "C: 100000  gamma: 0.1 Val acc: 0.6890909090909091\n",
      "C: 100000  gamma: 1 Val acc: 0.6890909090909091\n",
      "C: 100000  gamma: 10 Val acc: 0.6890909090909091\n",
      "C: 100000  gamma: 100 Val acc: 0.6890909090909091\n",
      "C: 100000  gamma: 1000 Val acc: 0.6890909090909091\n",
      "C: 100000  gamma: 10000 Val acc: 0.6890909090909091\n",
      "C: 100000  gamma: 100000 Val acc: 0.6890909090909091\n"
     ]
    }
   ],
   "source": [
    "# your code\n",
    "k = 5\n",
    "kfold_data = cross_validation(x_train, y_train, k=k)\n",
    "best_score, best_parameters = 0, dict(C=None, gamma=None)\n",
    "c_param, gamma_param = [], []\n",
    "score = []\n",
    "for c_exp in range(-5, 6):\n",
    "    c_param.append(10 ** c_exp)\n",
    "for gamma_exp in range(-5, 6):\n",
    "    gamma_param.append(10 ** gamma_exp)\n",
    "\n",
    "for C in c_param:\n",
    "    tmp = []\n",
    "\n",
    "    for gamma in gamma_param:\n",
    "        avg_val_score = 0\n",
    "\n",
    "        for train_index, val_index in kfold_data:\n",
    "            clf = SVC(C=C, kernel='rbf', gamma=gamma)\n",
    "            clf.fit(x_train[train_index], y_train[train_index])\n",
    "            y_pred = clf.predict(x_train[val_index])\n",
    "\n",
    "            avg_val_score += accuracy_score(y_train[val_index], y_pred)\n",
    "\n",
    "        avg_val_score /= k\n",
    "        tmp.append(avg_val_score)\n",
    "\n",
    "        print(f'C: {C}  gamma: {gamma} Val acc: {avg_val_score}')\n",
    "        if avg_val_score > best_score:\n",
    "            best_score = avg_val_score\n",
    "            best_parameters = dict(C=C, gamma=gamma)\n",
    "\n",
    "    score.append(tmp)"
   ]
  },
  {
   "cell_type": "code",
   "execution_count": 11,
   "metadata": {},
   "outputs": [
    {
     "name": "stdout",
     "output_type": "stream",
     "text": [
      "{'C': 1000, 'gamma': 0.0001}\n"
     ]
    }
   ],
   "source": [
    "print(best_parameters)"
   ]
  },
  {
   "cell_type": "code",
   "execution_count": 12,
   "metadata": {},
   "outputs": [
    {
     "name": "stdout",
     "output_type": "stream",
     "text": [
      "[1e-05, 0.0001, 0.001, 0.01, 0.1, 1, 10, 100, 1000, 10000, 100000]\n",
      "[1e-05, 0.0001, 0.001, 0.01, 0.1, 1, 10, 100, 1000, 10000, 100000]\n",
      "(11, 11)\n"
     ]
    }
   ],
   "source": [
    "print(c_param)\n",
    "print(gamma_param)\n",
    "print(np.array(score).shape)"
   ]
  },
  {
   "cell_type": "markdown",
   "metadata": {},
   "source": [
    "## Question 3\n",
    "Plot the grid search results of your SVM. The x, y represents the hyperparameters of “gamma” and “C”, respectively. And the color represents the average score of validation folds\n",
    "You reults should be look like this reference image below ![image](https://miro.medium.com/max/1296/1*wGWTup9r4cVytB5MOnsjdQ.png) "
   ]
  },
  {
   "cell_type": "code",
   "execution_count": 13,
   "metadata": {},
   "outputs": [
    {
     "data": {
      "image/png": "[encoded data removed]",
      "text/plain": [
       "<Figure size 1080x720 with 2 Axes>"
      ]
     },
     "metadata": {
      "needs_background": "light"
     },
     "output_type": "display_data"
    }
   ],
   "source": [
    "plt.figure(figsize=(15, 10))\n",
    "ax = sns.heatmap(score,\n",
    "                 annot=True,\n",
    "                 xticklabels=gamma_param,\n",
    "                 yticklabels=c_param,\n",
    "                 linewidths=1.0,\n",
    "                 cmap='coolwarm_r',\n",
    "                 cbar_kws={'label': 'val score'})\n",
    "plt.xlabel(\"Gamma Parameter\")\n",
    "plt.ylabel(\"C Parameter\")\n",
    "plt.title(\"Hyperparameter Gridsearch\")\n",
    "plt.show()"
   ]
  },
  {
   "cell_type": "markdown",
   "metadata": {},
   "source": [
    "## Question 4\n",
    "Train your SVM model by the best parameters you found from question 2 on the whole training set and evaluate the performance on the test set."
   ]
  },
  {
   "cell_type": "code",
   "execution_count": 14,
   "metadata": {},
   "outputs": [
    {
     "name": "stdout",
     "output_type": "stream",
     "text": [
      "Accuracy score:  0.90625\n"
     ]
    }
   ],
   "source": [
    "C, gamma = 1000, 0.0001\n",
    "best_model = SVC(C=C, kernel='rbf', gamma=gamma)\n",
    "best_model.fit(x_train, y_train)\n",
    "y_pred = best_model.predict(x_test)\n",
    "print(\"Accuracy score: \", accuracy_score(y_pred, y_test))"
   ]
  }
 ],
 "metadata": {
  "interpreter": {
   "hash": "0cae6f28a7b68e75a1329b9a2aaa47f0243b479a8d17df67ce3a643e470e86c6"
  },
  "kernelspec": {
   "display_name": "Python 3 (ipykernel)",
   "language": "python",
   "name": "python3"
  },
  "language_info": {
   "codemirror_mode": {
    "name": "ipython",
    "version": 3
   },
   "file_extension": ".py",
   "mimetype": "text/x-python",
   "name": "python",
   "nbconvert_exporter": "python",
   "pygments_lexer": "ipython3",
   "version": "3.8.3"
  }
 },
 "nbformat": 4,
 "nbformat_minor": 4
}
